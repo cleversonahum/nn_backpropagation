{
 "cells": [
  {
   "cell_type": "markdown",
   "metadata": {},
   "source": [
    "# Implementação de rede neural com back-propagation para problema simples de regressão"
   ]
  },
  {
   "cell_type": "markdown",
   "metadata": {},
   "source": [
    "Baseado no tutorial [\"How to Code a Neural Network with Backpropagation In Python (from scratch)\"](https://machinelearningmastery.com/implement-backpropagation-algorithm-scratch-python/).\n"
   ]
  },
  {
   "cell_type": "code",
   "execution_count": 1,
   "metadata": {},
   "outputs": [
    {
     "name": "stdout",
     "output_type": "stream",
     "text": [
      "Camada 1\n",
      "Neurônio 0, Pesos + Bias:  [0.7871709311715823, 0.7011009135573232]  \n",
      "Neurônio 1, Pesos + Bias:  [0.7375136793764627, 0.4107522821922248]  \n",
      "Neurônio 2, Pesos + Bias:  [0.015026800965265874, 0.5768386807707145]  \n",
      "Neurônio 3, Pesos + Bias:  [0.42268758550719987, 0.4384901043907602]  \n",
      "Neurônio 4, Pesos + Bias:  [0.4343199100159093, 0.5367333418696562]  \n",
      "Camada de saída\n",
      "Neurônio 0, Pesos + Bias:  [0.07950847965521857, 0.4857740208892606, 0.15456692979404407, 0.28781259177234453, 0.678827360146321, 0.07546162713296689]  \n"
     ]
    }
   ],
   "source": [
    "from random import random\n",
    "\n",
    "def initialize_network(n_inputs, n_hidden, n_outputs):\n",
    "    network = list()\n",
    "    hidden_layer = [{'weights':[random() for i in range(n_inputs + 1)]} for i in range(n_hidden)]\n",
    "    network.append(hidden_layer)\n",
    "    output_layer = [{'weights':[random() for i in range(n_hidden + 1)]} for i in range(n_outputs)]\n",
    "    network.append(output_layer)\n",
    "    return network\n",
    "\n",
    "def print_net(net):\n",
    "    for i, layer in enumerate(net):\n",
    "        print(\"Camada {}\".format(i+1) if i==0 else \"Camada de saída\")\n",
    "        for j, neuron in enumerate(layer):\n",
    "            output = \", Saída: {}\".format(neuron[\"output\"]) if \"output\" in neuron else \"\"\n",
    "            delta = \", Delta (erro): {}\".format(neuron[\"delta\"]) if \"delta\" in neuron else \"\"\n",
    "            print(\"Neurônio {}, Pesos + Bias: \".format(j), neuron[\"weights\"], output, delta)\n",
    "\n",
    "net = initialize_network(1, 5, 1)\n",
    "print_net(net)"
   ]
  },
  {
   "cell_type": "code",
   "execution_count": 2,
   "metadata": {},
   "outputs": [
    {
     "name": "stdout",
     "output_type": "stream",
     "text": [
      "Somatório neurônio:  8\n"
     ]
    }
   ],
   "source": [
    "import numpy as np\n",
    "\n",
    "def activate(weights, inputs):\n",
    "\tactivation = weights[-1]\n",
    "\tfor i in range(len(weights)-1):\n",
    "\t\tactivation += weights[i] * inputs[i]\n",
    "\treturn activation\n",
    "\n",
    "weights = np.array([2, 4]) # O último é o bias\n",
    "input = np.array([2])\n",
    "print(\"Somatório neurônio: \", activate(weights, input))"
   ]
  },
  {
   "cell_type": "code",
   "execution_count": 3,
   "metadata": {},
   "outputs": [
    {
     "data": {
      "image/png": "[encoded data removed]",
      "text/plain": [
       "<Figure size 432x288 with 1 Axes>"
      ]
     },
     "metadata": {
      "needs_background": "light"
     },
     "output_type": "display_data"
    }
   ],
   "source": [
    "import matplotlib.pyplot as plt\n",
    "\n",
    "def transfer(activation):\n",
    "\t#return 1.0 / (1.0 + np.exp(-activation)) #tanh\n",
    "\treturn np.where(activation<0, 0, activation)\n",
    "\n",
    "plt.figure()\n",
    "x_transfer = np.linspace(-100,100,200)\n",
    "y_transfer = transfer(x_transfer)\n",
    "plt.title(\"Função de ativação\")\n",
    "plt.xlabel(\"Entrada (x)\")\n",
    "plt.ylabel(\"Saída (y)\")\n",
    "plt.grid()\n",
    "plt.plot(x_transfer,y_transfer)\n",
    "plt.show()"
   ]
  },
  {
   "cell_type": "code",
   "execution_count": 4,
   "metadata": {},
   "outputs": [
    {
     "name": "stdout",
     "output_type": "stream",
     "text": [
      "Saída da rede neural: [2.589765204248067]\n"
     ]
    }
   ],
   "source": [
    "#Remover função de ativação da ultima camada se formmos fazer regressão\n",
    "def forward_propagate(network, row):\n",
    "\tinputs = row\n",
    "\tfor i, layer in enumerate(network):\n",
    "\t\tnew_inputs = []\n",
    "\t\tfor neuron in layer:\n",
    "\t\t\tactivation = activate(neuron['weights'], inputs)\n",
    "\t\t\tneuron['output'] = transfer(activation) if (i+1) != len(network) else activation\n",
    "\t\t\tnew_inputs.append(neuron['output'])\n",
    "\t\tinputs = new_inputs\n",
    "\treturn inputs\n",
    "\t\n",
    "output = forward_propagate(net, input)\n",
    "print (\"Saída da rede neural:\", output)"
   ]
  },
  {
   "cell_type": "code",
   "execution_count": 5,
   "metadata": {},
   "outputs": [
    {
     "data": {
      "image/png": "[encoded data removed]",
      "text/plain": [
       "<Figure size 432x288 with 1 Axes>"
      ]
     },
     "metadata": {
      "needs_background": "light"
     },
     "output_type": "display_data"
    }
   ],
   "source": [
    "def transfer_derivative(output):\n",
    "\t# return output * (1.0 - output) # Tanh\n",
    "\treturn np.where(output<0, 0, 1)\n",
    "\n",
    "plt.figure()\n",
    "x_transfer_derivative = np.linspace(-100,100,200)\n",
    "y_transfer_derivative = transfer_derivative(x_transfer_derivative)\n",
    "plt.title(\"Derivada da função de ativação\")\n",
    "plt.xlabel(\"Input (x)\")\n",
    "plt.ylabel(\"Output (y)\")\n",
    "plt.grid()\n",
    "plt.plot(x_transfer_derivative,y_transfer_derivative)\n",
    "plt.show()"
   ]
  },
  {
   "cell_type": "code",
   "execution_count": 6,
   "metadata": {},
   "outputs": [
    {
     "name": "stdout",
     "output_type": "stream",
     "text": [
      "[2]\n",
      "Camada 1\n",
      "Neurônio 0, Pesos + Bias:  [0.7871709311715823, 0.7011009135573232] , Saída: 2.275442775900488 , Delta (erro): 0.49628733506227\n",
      "Neurônio 1, Pesos + Bias:  [0.7375136793764627, 0.4107522821922248] , Saída: 1.8857796409451502 , Delta (erro): 3.0321733645901885\n",
      "Neurônio 2, Pesos + Bias:  [0.015026800965265874, 0.5768386807707145] , Saída: 0.6068922827012463 , Delta (erro): 0.9647978430588473\n",
      "Neurônio 3, Pesos + Bias:  [0.42268758550719987, 0.4384901043907602] , Saída: 1.28386527540516 , Delta (erro): 1.796509564608266\n",
      "Neurônio 4, Pesos + Bias:  [0.4343199100159093, 0.5367333418696562] , Saída: 1.4053731619014749 , Delta (erro): 4.237201151314699\n",
      "Camada de saída\n",
      "Neurônio 0, Pesos + Bias:  [0.07950847965521857, 0.4857740208892606, 0.15456692979404407, 0.28781259177234453, 0.678827360146321, 0.07546162713296689] , Saída: 2.589765204248067 , Delta (erro): 6.241942208106303\n"
     ]
    }
   ],
   "source": [
    "def backward_propagate_error(network, expected):\n",
    "\tfor i in reversed(range(len(network))):\n",
    "\t\tlayer = network[i]\n",
    "\t\terrors = list()\n",
    "\t\tif i != len(network)-1:\n",
    "\t\t\tfor j in range(len(layer)):\n",
    "\t\t\t\terror = 0.0\n",
    "\t\t\t\tfor neuron in network[i + 1]:\n",
    "\t\t\t\t\terror += (neuron['weights'][j] * neuron['delta'])\n",
    "\t\t\t\terrors.append(error)\n",
    "\t\telse:\n",
    "\t\t\tfor j in range(len(layer)):\n",
    "\t\t\t\tneuron = layer[j]\n",
    "\t\t\t\terrors.append(expected[j] - neuron['output'])\n",
    "\t\tfor j in range(len(layer)):\n",
    "\t\t\tneuron = layer[j]\n",
    "\t\t\tneuron['delta'] = errors[j] * transfer_derivative(neuron['output']) if (i+1) != len(network) else errors[j] * neuron[\"output\"]\n",
    "\n",
    "print(input)\n",
    "expected = [5]\n",
    "backward_propagate_error(net, expected)\n",
    "print_net(net)"
   ]
  },
  {
   "cell_type": "code",
   "execution_count": 7,
   "metadata": {},
   "outputs": [
    {
     "name": "stdout",
     "output_type": "stream",
     "text": [
      "Camada 1\n",
      "Neurônio 0, Pesos + Bias:  [0.7881635058417069, 0.7015972008923854] , Saída: 2.275442775900488 , Delta (erro): 0.49628733506227\n",
      "Neurônio 1, Pesos + Bias:  [0.743578026105643, 0.413784455556815] , Saída: 1.8857796409451502 , Delta (erro): 3.0321733645901885\n",
      "Neurônio 2, Pesos + Bias:  [0.016956396651383567, 0.5778034786137733] , Saída: 0.6068922827012463 , Delta (erro): 0.9647978430588473\n",
      "Neurônio 3, Pesos + Bias:  [0.4262806046364164, 0.44028661395536844] , Saída: 1.28386527540516 , Delta (erro): 1.796509564608266\n",
      "Neurônio 4, Pesos + Bias:  [0.4427943123185387, 0.5409705430209708] , Saída: 1.4053731619014749 , Delta (erro): 4.237201151314699\n",
      "Camada de saída\n",
      "Neurônio 0, Pesos + Bias:  [0.09371166196024239, 0.49754494842526364, 0.15835511634921096, 0.295826404624418, 0.6875996182037336, 0.08170356934107319] , Saída: 2.589765204248067 , Delta (erro): 6.241942208106303\n"
     ]
    }
   ],
   "source": [
    "def update_weights(network, row, l_rate):\n",
    "\tfor i in range(len(network)):\n",
    "\t\tinputs = row[-1:]\n",
    "\t\tif i != 0:\n",
    "\t\t\tinputs = [neuron['output'] for neuron in network[i - 1]]\n",
    "\t\tfor neuron in network[i]:\n",
    "\t\t\tfor j in range(len(inputs)):\n",
    "\t\t\t\tneuron['weights'][j] += l_rate * neuron['delta'] * inputs[j]\n",
    "\t\t\tneuron['weights'][-1] += l_rate * neuron['delta']\n",
    "\n",
    "learning_rate = 0.001\n",
    "update_weights(net, input, learning_rate)\n",
    "print_net(net)"
   ]
  },
  {
   "cell_type": "code",
   "execution_count": 8,
   "metadata": {},
   "outputs": [
    {
     "name": "stdout",
     "output_type": "stream",
     "text": [
      "Entrada:  [2] , Saída:  [2.7012034437288657]\n"
     ]
    }
   ],
   "source": [
    "def predict(network, row):\n",
    "\toutputs = forward_propagate(network, row)\n",
    "\treturn outputs\n",
    "\n",
    "print(\"Entrada: \", input, \", Saída: \",predict(net, input))"
   ]
  },
  {
   "cell_type": "markdown",
   "metadata": {},
   "source": [
    "## Preparação da base de dados"
   ]
  },
  {
   "cell_type": "code",
   "execution_count": 9,
   "metadata": {},
   "outputs": [
    {
     "data": {
      "image/png": "[encoded data removed]",
      "text/plain": [
       "<Figure size 432x288 with 1 Axes>"
      ]
     },
     "metadata": {
      "needs_background": "light"
     },
     "output_type": "display_data"
    }
   ],
   "source": [
    "# Função que vamos tentar aproximar\n",
    "n = 10 # Número de registros na base de dados\n",
    "x = np.linspace(-1,1,n)\n",
    "y = 5+x*3\n",
    "\n",
    "plt.figure()\n",
    "plt.title(\"Função usada para treinamento\")\n",
    "plt.xlabel(\"Entrada (x)\")\n",
    "plt.ylabel(\"Saída (y)\")\n",
    "plt.ylim([0,10])\n",
    "plt.grid()\n",
    "plt.plot(x,y)\n",
    "plt.show()"
   ]
  },
  {
   "cell_type": "code",
   "execution_count": 10,
   "metadata": {},
   "outputs": [
    {
     "name": "stdout",
     "output_type": "stream",
     "text": [
      "Dimensão entradas para treino = 9\n",
      "Dimensão saídas para treino = 9\n",
      "\n",
      "Dimensão entradas para teste = 1\n",
      "Dimensão saídas para teste = 1\n",
      "\n"
     ]
    }
   ],
   "source": [
    "# Divisão base de dados para treino e teste\n",
    "from sklearn.model_selection import train_test_split\n",
    "\n",
    "test_size = 0.1\n",
    "x_train, x_test, y_train, y_test = train_test_split(x.reshape(-1,1), y, test_size=test_size)\n",
    "print(\"Dimensão entradas para treino = {}\\nDimensão saídas para treino = {}\\n\\nDimensão entradas para teste = {}\\nDimensão saídas para teste = {}\\n\".format(x_train.shape[0], y_train.shape[0], x_test.shape[0], y_test.shape[0]))"
   ]
  },
  {
   "cell_type": "code",
   "execution_count": 11,
   "metadata": {},
   "outputs": [
    {
     "name": "stdout",
     "output_type": "stream",
     "text": [
      "Índices treino: [0 1 2 4 5 6 7], Índices validação: [3 8]\n",
      "Índices treino: [0 1 2 3 5 6 8], Índices validação: [4 7]\n",
      "Índices treino: [0 1 2 3 4 7 8], Índices validação: [5 6]\n",
      "Índices treino: [1 3 4 5 6 7 8], Índices validação: [0 2]\n",
      "Índices treino: [0 2 3 4 5 6 7 8], Índices validação: [1]\n"
     ]
    }
   ],
   "source": [
    "# Implementando validação cruzada\n",
    "from sklearn.model_selection import RepeatedKFold\n",
    "\n",
    "rkf = RepeatedKFold(n_splits=5, n_repeats=1)\n",
    "for train, test in rkf.split(x_train):\n",
    "\tprint(\"Índices treino: %s, Índices validação: %s\" % (train, test))"
   ]
  },
  {
   "cell_type": "markdown",
   "metadata": {},
   "source": [
    "## Treinamento da rede"
   ]
  },
  {
   "cell_type": "code",
   "execution_count": 12,
   "metadata": {},
   "outputs": [
    {
     "name": "stdout",
     "output_type": "stream",
     "text": [
      "Rede neural antes do treinamento:\n",
      "Camada 1\n",
      "Neurônio 0, Pesos + Bias:  [0.5094331306772055, 0.5422615864335947]  \n",
      "Neurônio 1, Pesos + Bias:  [0.1675275008229713, 0.7052596072679638]  \n",
      "Neurônio 2, Pesos + Bias:  [0.41048235795827226, 0.41396026515263773]  \n",
      "Neurônio 3, Pesos + Bias:  [0.8960072729958211, 0.3391563243182967]  \n",
      "Neurônio 4, Pesos + Bias:  [0.8524522847682595, 0.5167645260064726]  \n",
      "Camada de saída\n",
      "Neurônio 0, Pesos + Bias:  [0.20763251328958254, 0.9961497213112729, 0.4828902458482659, 0.0831765419687327, 0.5262647875963317, 0.849779962933319]  \n",
      "\n",
      "\n",
      "Rede neural depois do treinamento:\n",
      "Camada 1\n",
      "Neurônio 0, Pesos + Bias:  [0.6368786265770467, 0.6931123681658589] , Saída: 1.3299909947429056 , Delta (erro): -0.4364584102452923\n",
      "Neurônio 1, Pesos + Bias:  [0.5340551807790938, 1.1879673278541434] , Saída: 1.7220225086332372 , Delta (erro): -1.0427968417709705\n",
      "Neurônio 2, Pesos + Bias:  [0.6074149735669736, 0.666212005558241] , Saída: 1.2736269791252146 , Delta (erro): -0.5963284358017079\n",
      "Neurônio 3, Pesos + Bias:  [0.9836323271454369, 0.4365416743946104] , Saída: 1.4201740015400472 , Delta (erro): -0.24507504053455512\n",
      "Neurônio 4, Pesos + Bias:  [1.0879606138064615, 0.8123786791233113] , Saída: 1.9003392929297727 , Delta (erro): -0.6987852688315512\n",
      "Camada de saída\n",
      "Neurônio 0, Pesos + Bias:  [0.6150587062638594, 1.4691442637755956, 0.8403608978696329, 0.34538335065550635, 0.984795501864745, 1.2571947332088336] , Saída: 8.037373119017435 , Delta (erro): -0.7095739851658306\n",
      "\n",
      "\n"
     ]
    },
    {
     "data": {
      "image/png": "[encoded data removed]",
      "text/plain": [
       "<Figure size 432x288 with 1 Axes>"
      ]
     },
     "metadata": {
      "needs_background": "light"
     },
     "output_type": "display_data"
    }
   ],
   "source": [
    "def train_network(network, n_splits, x_train, y_train, l_rate, n_repeats):\n",
    "\trkf = RepeatedKFold(n_splits=n_splits, n_repeats=n_repeats)\n",
    "\tavg_errors = np.array([])\n",
    "\tfor train_idx, valid_idx in rkf.split(x_train):\n",
    "\t\tfor idx in train_idx: # Treino\n",
    "\t\t\toutputs = forward_propagate(network, x_train[idx])\n",
    "\t\t\texpected = [y_train[idx]]\n",
    "\t\t\tbackward_propagate_error(network, expected)\n",
    "\t\t\tupdate_weights(network, x_train[idx], l_rate)\n",
    "\t\terrors = np.array([])\n",
    "\t\tfor idx in valid_idx: #Validação\n",
    "\t\t\toutputs = predict(network, x_train[idx])\n",
    "\t\t\texpected = y_train[idx]\n",
    "\t\t\terrors = np.append(errors, (expected-outputs)**2) # Erro quadrático\n",
    "\t\tavg_errors = np.append(avg_errors, np.mean(errors))\n",
    "\t\n",
    "\treturn avg_errors\n",
    "\n",
    "net = initialize_network(1, 5, 1)\n",
    "print(\"Rede neural antes do treinamento:\")\n",
    "print_net(net)\n",
    "print(\"\\n\")\n",
    "avg_errors = train_network(net, 5, x_train, y_train, learning_rate, 100)\n",
    "print(\"Rede neural depois do treinamento:\")\n",
    "print_net(net)\n",
    "print(\"\\n\")\n",
    "plt.figure()\n",
    "plt.title(\"Erro quadrático médio\")\n",
    "plt.xlabel(\"Épocas\")\n",
    "plt.ylabel(\"Erro\")\n",
    "plt.grid()\n",
    "plt.plot(np.arange(1, len(avg_errors)+1), avg_errors)\n",
    "plt.show()"
   ]
  },
  {
   "cell_type": "code",
   "execution_count": 13,
   "metadata": {},
   "outputs": [
    {
     "name": "stdout",
     "output_type": "stream",
     "text": [
      "Erro médio:  0.0007787415310420785\n"
     ]
    }
   ],
   "source": [
    "def test_network(network, x_test, y_test):\n",
    "\terrors = np.array([])\n",
    "\tfor i, x in enumerate(x_test): #Validação\n",
    "\t\toutputs = predict(network, x)\n",
    "\t\texpected = y_test[i]\n",
    "\t\terrors = np.append(errors, (expected-outputs)**2) # Erro quadrático\n",
    "\tprint(\"Erro médio: \", np.mean(errors))\n",
    "\n",
    "test_network(net, x_test, y_test)"
   ]
  },
  {
   "cell_type": "code",
   "execution_count": 14,
   "metadata": {},
   "outputs": [
    {
     "data": {
      "image/png": "[encoded data removed]",
      "text/plain": [
       "<Figure size 432x288 with 1 Axes>"
      ]
     },
     "metadata": {
      "needs_background": "light"
     },
     "output_type": "display_data"
    }
   ],
   "source": [
    "outputs = np.array([])\n",
    "for value in x:\n",
    "\toutputs = np.append(outputs, predict(net, [value]))\n",
    "\n",
    "plt.figure()\n",
    "plt.title(\"Comparação função original x rede neural\")\n",
    "plt.xlabel(\"Entrada (x)\")\n",
    "plt.ylabel(\"Saída (y)\")\n",
    "plt.grid()\n",
    "plt.plot(x, y, label=\"Original\", color=\"blue\")\n",
    "plt.plot(x, outputs, label=\"Rede neural\", color=\"red\")\n",
    "plt.legend()\n",
    "plt.show()"
   ]
  }
 ],
 "metadata": {
  "interpreter": {
   "hash": "7b20d736feb5c92ce0a758bad18fa087525f91de662f6a175944e227143d1e7e"
  },
  "kernelspec": {
   "display_name": "Python 3.7.12 64-bit ('backpropagation-nn-regression-YPAxolXP': pipenv)",
   "name": "python3"
  },
  "language_info": {
   "codemirror_mode": {
    "name": "ipython",
    "version": 3
   },
   "file_extension": ".py",
   "mimetype": "text/x-python",
   "name": "python",
   "nbconvert_exporter": "python",
   "pygments_lexer": "ipython3",
   "version": "3.7.12"
  },
  "orig_nbformat": 4
 },
 "nbformat": 4,
 "nbformat_minor": 2
}

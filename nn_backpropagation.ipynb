{
 "cells": [
  {
   "cell_type": "markdown",
   "metadata": {},
   "source": [
    "# Implementação de rede neural com back-propagation para problema simples de regressão"
   ]
  },
  {
   "cell_type": "markdown",
   "metadata": {},
   "source": [
    "Baseado no tutorial [\"How to Code a Neural Network with Backpropagation In Python (from scratch)\"](https://machinelearningmastery.com/implement-backpropagation-algorithm-scratch-python/).\n"
   ]
  },
  {
   "cell_type": "code",
   "execution_count": 1,
   "metadata": {},
   "outputs": [
    {
     "name": "stdout",
     "output_type": "stream",
     "text": [
      "Camada 1\n",
      "Neurônio 0, Pesos + Bias:  [0.1147318584152337, 0.9474011362074053]  \n",
      "Neurônio 1, Pesos + Bias:  [0.46273526192493675, 0.41918217750832665]  \n",
      "Neurônio 2, Pesos + Bias:  [0.47110074843255634, 0.8643772351112919]  \n",
      "Neurônio 3, Pesos + Bias:  [0.5328911283792013, 0.5044505509979488]  \n",
      "Neurônio 4, Pesos + Bias:  [0.24594428783807165, 0.42825530974773063]  \n",
      "Camada de saída\n",
      "Neurônio 0, Pesos + Bias:  [0.6210927890420977, 0.8035694606550159, 0.34185970153607514, 0.04659649323271764, 0.05367417112359363, 0.21943839346481275]  \n"
     ]
    }
   ],
   "source": [
    "from random import random\n",
    "\n",
    "def initialize_network(n_inputs, n_hidden, n_outputs):\n",
    "    network = list()\n",
    "    hidden_layer = [{'weights':[random() for i in range(n_inputs + 1)]} for i in range(n_hidden)]\n",
    "    network.append(hidden_layer)\n",
    "    output_layer = [{'weights':[random() for i in range(n_hidden + 1)]} for i in range(n_outputs)]\n",
    "    network.append(output_layer)\n",
    "    return network\n",
    "\n",
    "def print_net(net):\n",
    "    for i, layer in enumerate(net):\n",
    "        print(\"Camada {}\".format(i+1) if i==0 else \"Camada de saída\")\n",
    "        for j, neuron in enumerate(layer):\n",
    "            output = \", Saída: {}\".format(neuron[\"output\"]) if \"output\" in neuron else \"\"\n",
    "            delta = \", Delta (erro): {}\".format(neuron[\"delta\"]) if \"delta\" in neuron else \"\"\n",
    "            print(\"Neurônio {}, Pesos + Bias: \".format(j), neuron[\"weights\"], output, delta)\n",
    "\n",
    "net = initialize_network(1, 5, 1)\n",
    "print_net(net)"
   ]
  },
  {
   "cell_type": "code",
   "execution_count": 2,
   "metadata": {},
   "outputs": [
    {
     "name": "stdout",
     "output_type": "stream",
     "text": [
      "Somatório neurônio:  8\n"
     ]
    }
   ],
   "source": [
    "import numpy as np\n",
    "\n",
    "def activate(weights, inputs):\n",
    "\tactivation = weights[-1]\n",
    "\tfor i in range(len(weights)-1):\n",
    "\t\tactivation += weights[i] * inputs[i]\n",
    "\treturn activation\n",
    "\n",
    "weights = np.array([2, 4]) # O último é o bias\n",
    "input = np.array([2])\n",
    "print(\"Somatório neurônio: \", activate(weights, input))"
   ]
  },
  {
   "cell_type": "code",
   "execution_count": 10,
   "metadata": {},
   "outputs": [
    {
     "data": {
      "image/png": "[encoded data removed]",
      "text/plain": [
       "<Figure size 432x288 with 1 Axes>"
      ]
     },
     "metadata": {
      "needs_background": "light"
     },
     "output_type": "display_data"
    }
   ],
   "source": [
    "import matplotlib.pyplot as plt\n",
    "#mudar pra Relu\n",
    "def transfer(activation):\n",
    "\t#return 1.0 / (1.0 + np.exp(-activation))\n",
    "\treturn np.maximum(np.zeros(activation.shape[0]), activation)\n",
    "\n",
    "plt.figure()\n",
    "x_transfer = np.linspace(-100,100,200)\n",
    "y_transfer = transfer(x_transfer)\n",
    "plt.title(\"Função de ativação\")\n",
    "plt.xlabel(\"Entrada (x)\")\n",
    "plt.ylabel(\"Saída (y)\")\n",
    "plt.grid()\n",
    "plt.plot(x_transfer,y_transfer)\n",
    "plt.show()"
   ]
  },
  {
   "cell_type": "code",
   "execution_count": 11,
   "metadata": {},
   "outputs": [
    {
     "ename": "IndexError",
     "evalue": "tuple index out of range",
     "output_type": "error",
     "traceback": [
      "\u001b[0;31m---------------------------------------------------------------------------\u001b[0m",
      "\u001b[0;31mIndexError\u001b[0m                                Traceback (most recent call last)",
      "\u001b[0;32m/tmp/ipykernel_18506/3003512932.py\u001b[0m in \u001b[0;36m<module>\u001b[0;34m\u001b[0m\n\u001b[1;32m     11\u001b[0m         \u001b[0;32mreturn\u001b[0m \u001b[0minputs\u001b[0m\u001b[0;34m\u001b[0m\u001b[0;34m\u001b[0m\u001b[0m\n\u001b[1;32m     12\u001b[0m \u001b[0;34m\u001b[0m\u001b[0m\n\u001b[0;32m---> 13\u001b[0;31m \u001b[0moutput\u001b[0m \u001b[0;34m=\u001b[0m \u001b[0mforward_propagate\u001b[0m\u001b[0;34m(\u001b[0m\u001b[0mnet\u001b[0m\u001b[0;34m,\u001b[0m \u001b[0minput\u001b[0m\u001b[0;34m)\u001b[0m\u001b[0;34m\u001b[0m\u001b[0;34m\u001b[0m\u001b[0m\n\u001b[0m\u001b[1;32m     14\u001b[0m \u001b[0mprint\u001b[0m \u001b[0;34m(\u001b[0m\u001b[0;34m\"Saída da rede neural:\"\u001b[0m\u001b[0;34m,\u001b[0m \u001b[0moutput\u001b[0m\u001b[0;34m)\u001b[0m\u001b[0;34m\u001b[0m\u001b[0;34m\u001b[0m\u001b[0m\n",
      "\u001b[0;32m/tmp/ipykernel_18506/3003512932.py\u001b[0m in \u001b[0;36mforward_propagate\u001b[0;34m(network, row)\u001b[0m\n\u001b[1;32m      6\u001b[0m                 \u001b[0;32mfor\u001b[0m \u001b[0mneuron\u001b[0m \u001b[0;32min\u001b[0m \u001b[0mlayer\u001b[0m\u001b[0;34m:\u001b[0m\u001b[0;34m\u001b[0m\u001b[0;34m\u001b[0m\u001b[0m\n\u001b[1;32m      7\u001b[0m                         \u001b[0mactivation\u001b[0m \u001b[0;34m=\u001b[0m \u001b[0mactivate\u001b[0m\u001b[0;34m(\u001b[0m\u001b[0mneuron\u001b[0m\u001b[0;34m[\u001b[0m\u001b[0;34m'weights'\u001b[0m\u001b[0;34m]\u001b[0m\u001b[0;34m,\u001b[0m \u001b[0minputs\u001b[0m\u001b[0;34m)\u001b[0m\u001b[0;34m\u001b[0m\u001b[0;34m\u001b[0m\u001b[0m\n\u001b[0;32m----> 8\u001b[0;31m                         \u001b[0mneuron\u001b[0m\u001b[0;34m[\u001b[0m\u001b[0;34m'output'\u001b[0m\u001b[0;34m]\u001b[0m \u001b[0;34m=\u001b[0m \u001b[0mtransfer\u001b[0m\u001b[0;34m(\u001b[0m\u001b[0mactivation\u001b[0m\u001b[0;34m)\u001b[0m \u001b[0;32mif\u001b[0m \u001b[0;34m(\u001b[0m\u001b[0mi\u001b[0m\u001b[0;34m+\u001b[0m\u001b[0;36m1\u001b[0m\u001b[0;34m)\u001b[0m \u001b[0;34m!=\u001b[0m \u001b[0mlen\u001b[0m\u001b[0;34m(\u001b[0m\u001b[0mnetwork\u001b[0m\u001b[0;34m)\u001b[0m \u001b[0;32melse\u001b[0m \u001b[0mactivation\u001b[0m\u001b[0;34m\u001b[0m\u001b[0;34m\u001b[0m\u001b[0m\n\u001b[0m\u001b[1;32m      9\u001b[0m                         \u001b[0mnew_inputs\u001b[0m\u001b[0;34m.\u001b[0m\u001b[0mappend\u001b[0m\u001b[0;34m(\u001b[0m\u001b[0mneuron\u001b[0m\u001b[0;34m[\u001b[0m\u001b[0;34m'output'\u001b[0m\u001b[0;34m]\u001b[0m\u001b[0;34m)\u001b[0m\u001b[0;34m\u001b[0m\u001b[0;34m\u001b[0m\u001b[0m\n\u001b[1;32m     10\u001b[0m                 \u001b[0minputs\u001b[0m \u001b[0;34m=\u001b[0m \u001b[0mnew_inputs\u001b[0m\u001b[0;34m\u001b[0m\u001b[0;34m\u001b[0m\u001b[0m\n",
      "\u001b[0;32m/tmp/ipykernel_18506/1448214999.py\u001b[0m in \u001b[0;36mtransfer\u001b[0;34m(activation)\u001b[0m\n\u001b[1;32m      3\u001b[0m \u001b[0;32mdef\u001b[0m \u001b[0mtransfer\u001b[0m\u001b[0;34m(\u001b[0m\u001b[0mactivation\u001b[0m\u001b[0;34m)\u001b[0m\u001b[0;34m:\u001b[0m\u001b[0;34m\u001b[0m\u001b[0;34m\u001b[0m\u001b[0m\n\u001b[1;32m      4\u001b[0m         \u001b[0;31m#return 1.0 / (1.0 + np.exp(-activation))\u001b[0m\u001b[0;34m\u001b[0m\u001b[0;34m\u001b[0m\u001b[0;34m\u001b[0m\u001b[0m\n\u001b[0;32m----> 5\u001b[0;31m         \u001b[0;32mreturn\u001b[0m \u001b[0mnp\u001b[0m\u001b[0;34m.\u001b[0m\u001b[0mmaximum\u001b[0m\u001b[0;34m(\u001b[0m\u001b[0mnp\u001b[0m\u001b[0;34m.\u001b[0m\u001b[0mzeros\u001b[0m\u001b[0;34m(\u001b[0m\u001b[0mactivation\u001b[0m\u001b[0;34m.\u001b[0m\u001b[0mshape\u001b[0m\u001b[0;34m[\u001b[0m\u001b[0;36m0\u001b[0m\u001b[0;34m]\u001b[0m\u001b[0;34m)\u001b[0m\u001b[0;34m,\u001b[0m \u001b[0mactivation\u001b[0m\u001b[0;34m)\u001b[0m\u001b[0;34m\u001b[0m\u001b[0;34m\u001b[0m\u001b[0m\n\u001b[0m\u001b[1;32m      6\u001b[0m \u001b[0;34m\u001b[0m\u001b[0m\n\u001b[1;32m      7\u001b[0m \u001b[0mplt\u001b[0m\u001b[0;34m.\u001b[0m\u001b[0mfigure\u001b[0m\u001b[0;34m(\u001b[0m\u001b[0;34m)\u001b[0m\u001b[0;34m\u001b[0m\u001b[0;34m\u001b[0m\u001b[0m\n",
      "\u001b[0;31mIndexError\u001b[0m: tuple index out of range"
     ]
    }
   ],
   "source": [
    "#Remover função de ativação da ultima camada se formmos fazer regressão\n",
    "def forward_propagate(network, row):\n",
    "\tinputs = row\n",
    "\tfor i, layer in enumerate(network):\n",
    "\t\tnew_inputs = []\n",
    "\t\tfor neuron in layer:\n",
    "\t\t\tactivation = activate(neuron['weights'], inputs)\n",
    "\t\t\tneuron['output'] = transfer(activation) if (i+1) != len(network) else activation\n",
    "\t\t\tnew_inputs.append(neuron['output'])\n",
    "\t\tinputs = new_inputs\n",
    "\treturn inputs\n",
    "\t\n",
    "output = forward_propagate(net, input)\n",
    "print (\"Saída da rede neural:\", output)"
   ]
  },
  {
   "cell_type": "code",
   "execution_count": null,
   "metadata": {},
   "outputs": [],
   "source": [
    "def transfer_derivative(output):\n",
    "\t# return output * (1.0 - output)\n",
    "\treturn 1 if output>=0 else 0\n",
    "\n",
    "plt.figure()\n",
    "x_transfer_derivative = np.linspace(-100,100,200)\n",
    "y_transfer_derivative = transfer_derivative(x_transfer_derivative)\n",
    "plt.title(\"Derivada da função de ativação\")\n",
    "plt.xlabel(\"Input (x)\")\n",
    "plt.ylabel(\"Output (y)\")\n",
    "plt.grid()\n",
    "plt.plot(x_transfer_derivative,y_transfer_derivative)\n",
    "plt.show()"
   ]
  },
  {
   "cell_type": "code",
   "execution_count": null,
   "metadata": {},
   "outputs": [],
   "source": [
    "def backward_propagate_error(network, expected):\n",
    "\tfor i in reversed(range(len(network))):\n",
    "\t\tlayer = network[i]\n",
    "\t\terrors = list()\n",
    "\t\tif i != len(network)-1:\n",
    "\t\t\tfor j in range(len(layer)):\n",
    "\t\t\t\terror = 0.0\n",
    "\t\t\t\tfor neuron in network[i + 1]:\n",
    "\t\t\t\t\terror += (neuron['weights'][j] * neuron['delta'])\n",
    "\t\t\t\terrors.append(error)\n",
    "\t\telse:\n",
    "\t\t\tfor j in range(len(layer)):\n",
    "\t\t\t\tneuron = layer[j]\n",
    "\t\t\t\terrors.append(expected[j] - neuron['output'])\n",
    "\t\tfor j in range(len(layer)):\n",
    "\t\t\tneuron = layer[j]\n",
    "\t\t\tneuron['delta'] = errors[j] * transfer_derivative(neuron['output']) if (i+1) != len(network) else errors[j] * neuron[\"output\"]\n",
    "\n",
    "print(input)\n",
    "expected = [5]\n",
    "backward_propagate_error(net, expected)\n",
    "print_net(net)"
   ]
  },
  {
   "cell_type": "code",
   "execution_count": null,
   "metadata": {},
   "outputs": [],
   "source": [
    "def update_weights(network, row, l_rate):\n",
    "\tfor i in range(len(network)):\n",
    "\t\tinputs = row[-1:]\n",
    "\t\tif i != 0:\n",
    "\t\t\tinputs = [neuron['output'] for neuron in network[i - 1]]\n",
    "\t\tfor neuron in network[i]:\n",
    "\t\t\tfor j in range(len(inputs)):\n",
    "\t\t\t\tneuron['weights'][j] += l_rate * neuron['delta'] * inputs[j]\n",
    "\t\t\tneuron['weights'][-1] += l_rate * neuron['delta']\n",
    "\n",
    "learning_rate = 0.001\n",
    "update_weights(net, input, learning_rate)\n",
    "print_net(net)"
   ]
  },
  {
   "cell_type": "code",
   "execution_count": null,
   "metadata": {},
   "outputs": [],
   "source": [
    "def predict(network, row):\n",
    "\toutputs = forward_propagate(network, row)\n",
    "\treturn outputs\n",
    "\n",
    "print(\"Entrada: \", input, \", Saída: \",predict(net, input))"
   ]
  },
  {
   "cell_type": "markdown",
   "metadata": {},
   "source": [
    "## Preparação da base de dados"
   ]
  },
  {
   "cell_type": "code",
   "execution_count": null,
   "metadata": {},
   "outputs": [],
   "source": [
    "# Função que vamos tentar aproximar\n",
    "n = 10 # Número de registros na base de dados\n",
    "x = np.linspace(-1,1,n)\n",
    "y = 5+x*3\n",
    "\n",
    "plt.figure()\n",
    "plt.title(\"Função usada para treinamento\")\n",
    "plt.xlabel(\"Entrada (x)\")\n",
    "plt.ylabel(\"Saída (y)\")\n",
    "plt.ylim([0,10])\n",
    "plt.grid()\n",
    "plt.plot(x,y)\n",
    "plt.show()"
   ]
  },
  {
   "cell_type": "code",
   "execution_count": null,
   "metadata": {},
   "outputs": [],
   "source": [
    "# Divisão base de dados para treino e teste\n",
    "from sklearn.model_selection import train_test_split\n",
    "\n",
    "test_size = 0.1\n",
    "x_train, x_test, y_train, y_test = train_test_split(x.reshape(-1,1), y, test_size=test_size)\n",
    "print(\"Dimensão entradas para treino = {}\\nDimensão saídas para treino = {}\\n\\nDimensão entradas para teste = {}\\nDimensão saídas para teste = {}\\n\".format(x_train.shape[0], y_train.shape[0], x_test.shape[0], y_test.shape[0]))"
   ]
  },
  {
   "cell_type": "code",
   "execution_count": null,
   "metadata": {},
   "outputs": [],
   "source": [
    "# Implementando validação cruzada\n",
    "from sklearn.model_selection import RepeatedKFold\n",
    "\n",
    "rkf = RepeatedKFold(n_splits=5, n_repeats=1)\n",
    "for train, test in rkf.split(x_train):\n",
    "\tprint(\"Índices treino: %s, Índices validação: %s\" % (train, test))"
   ]
  },
  {
   "cell_type": "markdown",
   "metadata": {},
   "source": [
    "## Treinamento da rede"
   ]
  },
  {
   "cell_type": "code",
   "execution_count": null,
   "metadata": {},
   "outputs": [],
   "source": [
    "def train_network(network, n_splits, x_train, y_train, l_rate, n_repeats):\n",
    "\trkf = RepeatedKFold(n_splits=n_splits, n_repeats=n_repeats)\n",
    "\tavg_errors = np.array([])\n",
    "\tfor train_idx, valid_idx in rkf.split(x_train):\n",
    "\t\tfor idx in train_idx: # Treino\n",
    "\t\t\toutputs = forward_propagate(network, x_train[idx])\n",
    "\t\t\texpected = [y_train[idx]]\n",
    "\t\t\tbackward_propagate_error(network, expected)\n",
    "\t\t\tupdate_weights(network, x_train[idx], l_rate)\n",
    "\t\terrors = np.array([])\n",
    "\t\tfor idx in valid_idx: #Validação\n",
    "\t\t\toutputs = predict(network, x_train[idx])\n",
    "\t\t\texpected = y_train[idx]\n",
    "\t\t\terrors = np.append(errors, (expected-outputs)**2) # Erro quadrático\n",
    "\t\tavg_errors = np.append(avg_errors, np.mean(errors))\n",
    "\t\n",
    "\treturn avg_errors\n",
    "\n",
    "net = initialize_network(1, 5, 1)\n",
    "print_net(\"Rede neural antes do treinamento:\\n\", print_net(net), \"\\n\\n\")\n",
    "avg_errors = train_network(net, 5, x_train, y_train, learning_rate, 100)\n",
    "print_net(\"Rede neural depois do treinamento:\\n\", print_net(net), \"\\n\\n\")\n",
    "plt.figure()\n",
    "plt.title(\"Erro quadrático médio\")\n",
    "plt.xlabel(\"Épocas\")\n",
    "plt.ylabel(\"Erro\")\n",
    "plt.grid()\n",
    "plt.plot(np.arange(1, len(avg_errors)+1), avg_errors)\n",
    "plt.show()"
   ]
  },
  {
   "cell_type": "code",
   "execution_count": null,
   "metadata": {},
   "outputs": [],
   "source": [
    "def test_network(network, x_test, y_test):\n",
    "\terrors = np.array([])\n",
    "\tfor i, x in enumerate(x_test): #Validação\n",
    "\t\toutputs = predict(network, x)\n",
    "\t\texpected = y_test[i]\n",
    "\t\terrors = np.append(errors, (expected-outputs)**2) # Erro quadrático\n",
    "\tprint(\"Erro médio: \", np.mean(errors))\n",
    "\n",
    "test_network(net, x_test, y_test)"
   ]
  },
  {
   "cell_type": "code",
   "execution_count": null,
   "metadata": {},
   "outputs": [],
   "source": [
    "outputs = np.array([])\n",
    "for value in x:\n",
    "\toutputs = np.append(outputs, predict(net, [value]))\n",
    "\n",
    "plt.figure()\n",
    "plt.title(\"Comparação função original x rede neural\")\n",
    "plt.xlabel(\"Entrada (x)\")\n",
    "plt.ylabel(\"Saída (y)\")\n",
    "plt.grid()\n",
    "plt.plot(x, y, label=\"Original\", color=\"blue\")\n",
    "plt.plot(x, outputs, label=\"Rede neural\", color=\"red\")\n",
    "plt.legend()\n",
    "plt.show()"
   ]
  }
 ],
 "metadata": {
  "interpreter": {
   "hash": "7b20d736feb5c92ce0a758bad18fa087525f91de662f6a175944e227143d1e7e"
  },
  "kernelspec": {
   "display_name": "Python 3.7.12 64-bit ('backpropagation-nn-regression-YPAxolXP': pipenv)",
   "name": "python3"
  },
  "language_info": {
   "codemirror_mode": {
    "name": "ipython",
    "version": 3
   },
   "file_extension": ".py",
   "mimetype": "text/x-python",
   "name": "python",
   "nbconvert_exporter": "python",
   "pygments_lexer": "ipython3",
   "version": "3.7.12"
  },
  "orig_nbformat": 4
 },
 "nbformat": 4,
 "nbformat_minor": 2
}
